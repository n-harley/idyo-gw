{
 "cells": [
  {
   "cell_type": "code",
   "execution_count": 1,
   "metadata": {},
   "outputs": [],
   "source": [
    "import numpy as np\n",
    "import pandas\n",
    "import matplotlib.pyplot as plt\n",
    "import os\n",
    "import sys\n",
    "sys.path.insert(0, os.path.abspath('./'))\n",
    "import gridworld as gw"
   ]
  },
  {
   "cell_type": "markdown",
   "metadata": {},
   "source": [
    "# List all available models"
   ]
  },
  {
   "cell_type": "code",
   "execution_count": 2,
   "metadata": {},
   "outputs": [
    {
     "data": {
      "text/html": [
       "<div>\n",
       "<style scoped>\n",
       "    .dataframe tbody tr th:only-of-type {\n",
       "        vertical-align: middle;\n",
       "    }\n",
       "\n",
       "    .dataframe tbody tr th {\n",
       "        vertical-align: top;\n",
       "    }\n",
       "\n",
       "    .dataframe thead th {\n",
       "        text-align: right;\n",
       "    }\n",
       "</style>\n",
       "<table border=\"1\" class=\"dataframe\">\n",
       "  <thead>\n",
       "    <tr style=\"text-align: right;\">\n",
       "      <th></th>\n",
       "      <th>model names</th>\n",
       "    </tr>\n",
       "  </thead>\n",
       "  <tbody>\n",
       "    <tr>\n",
       "      <th>0</th>\n",
       "      <td>idyom-select-maxlinks3</td>\n",
       "    </tr>\n",
       "    <tr>\n",
       "      <th>1</th>\n",
       "      <td>idyom-select-maxlinks2</td>\n",
       "    </tr>\n",
       "    <tr>\n",
       "      <th>2</th>\n",
       "      <td>idyom-action-action-orderbound1</td>\n",
       "    </tr>\n",
       "    <tr>\n",
       "      <th>3</th>\n",
       "      <td>idyom-select-maxlinks3-minus</td>\n",
       "    </tr>\n",
       "    <tr>\n",
       "      <th>4</th>\n",
       "      <td>idyom-action-action-stmo1</td>\n",
       "    </tr>\n",
       "    <tr>\n",
       "      <th>5</th>\n",
       "      <td>idyom-select-maxlinks2-plus-stmo1</td>\n",
       "    </tr>\n",
       "    <tr>\n",
       "      <th>6</th>\n",
       "      <td>idyom-action-action</td>\n",
       "    </tr>\n",
       "    <tr>\n",
       "      <th>7</th>\n",
       "      <td>idyom-select-maxlinks2-plus-stmo1-ltmo1</td>\n",
       "    </tr>\n",
       "    <tr>\n",
       "      <th>8</th>\n",
       "      <td>idyom-select-maxlinks2-plus-ltm-ltmo1</td>\n",
       "    </tr>\n",
       "    <tr>\n",
       "      <th>9</th>\n",
       "      <td>idyom-select-maxlinks2-plus-ltm-ltmo3</td>\n",
       "    </tr>\n",
       "    <tr>\n",
       "      <th>10</th>\n",
       "      <td>idyom-select-maxlinks2-plus-ltm-ltmo2</td>\n",
       "    </tr>\n",
       "    <tr>\n",
       "      <th>11</th>\n",
       "      <td>idyom-select-maxlinks2-plus</td>\n",
       "    </tr>\n",
       "    <tr>\n",
       "      <th>12</th>\n",
       "      <td>idyom-select-maxlinks3-plus</td>\n",
       "    </tr>\n",
       "    <tr>\n",
       "      <th>13</th>\n",
       "      <td>idyom-select-maxlinks2-plus-ltm-ltmo6</td>\n",
       "    </tr>\n",
       "    <tr>\n",
       "      <th>14</th>\n",
       "      <td>idyom-select-maxlinks2-plus-ltm-ltmo5</td>\n",
       "    </tr>\n",
       "    <tr>\n",
       "      <th>15</th>\n",
       "      <td>idyom-select-maxlinks2-plus-ltm</td>\n",
       "    </tr>\n",
       "    <tr>\n",
       "      <th>16</th>\n",
       "      <td>idyom-select-maxlinks2-plus-ltm-ltmo4</td>\n",
       "    </tr>\n",
       "  </tbody>\n",
       "</table>\n",
       "</div>"
      ],
      "text/plain": [
       "                                model names\n",
       "0                    idyom-select-maxlinks3\n",
       "1                    idyom-select-maxlinks2\n",
       "2           idyom-action-action-orderbound1\n",
       "3              idyom-select-maxlinks3-minus\n",
       "4                 idyom-action-action-stmo1\n",
       "5         idyom-select-maxlinks2-plus-stmo1\n",
       "6                       idyom-action-action\n",
       "7   idyom-select-maxlinks2-plus-stmo1-ltmo1\n",
       "8     idyom-select-maxlinks2-plus-ltm-ltmo1\n",
       "9     idyom-select-maxlinks2-plus-ltm-ltmo3\n",
       "10    idyom-select-maxlinks2-plus-ltm-ltmo2\n",
       "11              idyom-select-maxlinks2-plus\n",
       "12              idyom-select-maxlinks3-plus\n",
       "13    idyom-select-maxlinks2-plus-ltm-ltmo6\n",
       "14    idyom-select-maxlinks2-plus-ltm-ltmo5\n",
       "15          idyom-select-maxlinks2-plus-ltm\n",
       "16    idyom-select-maxlinks2-plus-ltm-ltmo4"
      ]
     },
     "execution_count": 2,
     "metadata": {},
     "output_type": "execute_result"
    }
   ],
   "source": [
    "# lists file names in the models/ directory\n",
    "model_names = gw.list_model_names()\n",
    "pandas.DataFrame(data={'model names':model_names})"
   ]
  },
  {
   "cell_type": "markdown",
   "metadata": {},
   "source": [
    "# Pick a model and load it"
   ]
  },
  {
   "cell_type": "code",
   "execution_count": 3,
   "metadata": {},
   "outputs": [],
   "source": [
    "model_name = model_names[8]\n",
    "data = gw.load_data(model_name)"
   ]
  },
  {
   "cell_type": "markdown",
   "metadata": {},
   "source": [
    "# Pick a mission from the data set"
   ]
  },
  {
   "cell_type": "code",
   "execution_count": 4,
   "metadata": {},
   "outputs": [
    {
     "data": {
      "text/plain": [
       "<Figure size 432x288 with 0 Axes>"
      ]
     },
     "metadata": {},
     "output_type": "display_data"
    },
    {
     "data": {
      "image/png": "[encoded data removed]",
      "text/plain": [
       "<Figure size 1440x1080 with 13 Axes>"
      ]
     },
     "metadata": {
      "needs_background": "light"
     },
     "output_type": "display_data"
    }
   ],
   "source": [
    "id = 20\n",
    "gw.display_mission(data,id)"
   ]
  },
  {
   "cell_type": "code",
   "execution_count": 5,
   "metadata": {},
   "outputs": [
    {
     "name": "stdout",
     "output_type": "stream",
     "text": [
      "['start' 'forward' 'forward' 'left' 'forward' 'pickup' 'right' 'forward'\n",
      " 'forward' 'forward' 'right' 'forward' 'toggle']\n"
     ]
    }
   ],
   "source": [
    "# GET THE SEQUENCE OF ACTIONS\n",
    "acns = gw.action(data,id)\n",
    "print(gw.action_labels[acns])"
   ]
  },
  {
   "cell_type": "markdown",
   "metadata": {},
   "source": [
    "# Compute profiles"
   ]
  },
  {
   "cell_type": "code",
   "execution_count": 6,
   "metadata": {},
   "outputs": [],
   "source": [
    "# INFORMATION CONTENT\n",
    "ic = gw.ic(data,id)\n",
    "\n",
    "# ENTROPY\n",
    "en = gw.en(data,id)\n",
    "\n",
    "# INFORMATION GAIN\n",
    "ig = gw.ig(data,id)\n",
    "\n",
    "\n",
    "# CHANGE IN ic\n",
    "ic_diff = gw.ic_diff(data,id)\n",
    "\n",
    "# CHANGE IN en\n",
    "en_diff = gw.en_diff(data,id)\n",
    "\n",
    "# CHANGE IN ig\n",
    "ig_diff = gw.ig_diff(data,id)\n",
    "\n",
    "\n",
    "# en / ic\n",
    "en_ic = gw.en_ic(data,id)\n",
    "\n",
    "# ig / ic\n",
    "ig_ic = gw.ig_ic(data,id)"
   ]
  },
  {
   "cell_type": "markdown",
   "metadata": {},
   "source": [
    "# Estimate boundary location from profiles"
   ]
  },
  {
   "cell_type": "code",
   "execution_count": 7,
   "metadata": {},
   "outputs": [],
   "source": [
    "# MIN ic\n",
    "min_ic = gw.min_ic(data,id)\n",
    "\n",
    "# MIN en\n",
    "min_en = gw.min_en(data,id)\n",
    "\n",
    "# MIN ig\n",
    "min_ig = gw.min_ig(data,id)\n",
    "\n",
    "\n",
    "# MAX ic\n",
    "max_ic = gw.max_ic(data,id)\n",
    "\n",
    "# MAX en\n",
    "max_en = gw.max_en(data,id)\n",
    "\n",
    "# MAX ig\n",
    "max_ig = gw.max_ig(data,id)\n",
    "\n",
    "\n",
    "# MAX ic CHANGE\n",
    "max_id_diff = gw.max_ic_diff(data,id)\n",
    "\n",
    "# MAX en CHANGE\n",
    "max_en_diff = gw.max_en_diff(data,id)\n",
    "\n",
    "# MAX ig CHANGE\n",
    "max_ig_diff = gw.max_ig_diff(data,id)\n",
    "\n",
    "\n",
    "# MIN ic CHANGE\n",
    "min_ic_diff = gw.min_ic_diff(data,id)\n",
    "\n",
    "# MIN en CHANGE\n",
    "min_en_diff = gw.min_en_diff(data,id)\n",
    "\n",
    "# MIN ig CHANGE\n",
    "min_ig_diff = gw.min_ig_diff(data,id)\n",
    "\n",
    "\n",
    "# BEFORE MAX ic CHANGE\n",
    "b_max_ic_diff = gw.max_ic_diff_minus1(data,id)\n",
    "\n",
    "# BEFORE MAX en CHANGE\n",
    "b_max_en_diff = gw.max_en_diff_minus1(data,id)\n",
    "\n",
    "# BEFORE MAX ig CHANGE\n",
    "b_max_ig_diff = gw.max_ig_diff_minus1(data,id)\n",
    "\n",
    "\n",
    "# MAX en / ic\n",
    "max_en_ic = gw.max_en_ic(data,id)\n",
    "\n",
    "# MAX ig / ic\n",
    "max_ig_ic = gw.max_ig_ic(data,id)"
   ]
  },
  {
   "cell_type": "markdown",
   "metadata": {},
   "source": [
    "# Visualise the results"
   ]
  },
  {
   "cell_type": "code",
   "execution_count": 8,
   "metadata": {
    "scrolled": true
   },
   "outputs": [
    {
     "data": {
      "image/png": "[encoded data removed]",
      "text/plain": [
       "<Figure size 1080x360 with 1 Axes>"
      ]
     },
     "metadata": {
      "needs_background": "light"
     },
     "output_type": "display_data"
    }
   ],
   "source": [
    "# (UN)COMMENT TO SELECT PROFILES AND ESTIMATOR TO PLOT\n",
    "\n",
    "plt.figure(figsize=(15,5))\n",
    "\n",
    "# PLOT PROFILES\n",
    "gw.plot(ic,'ic')\n",
    "gw.plot(en,'en')\n",
    "gw.plot(ig,'ig')\n",
    "#gw.plot(ic_diff,'ic diff')\n",
    "#gw.plot(en_diff,'en diff')\n",
    "#gw.plot(ig_diff,'ig diff')\n",
    "#gw.plot(en_ic,'en / ic')\n",
    "#gw.plot(ig_ic,'ig / ic')\n",
    "\n",
    "# MARK BOUNDARY ELEMENT (THE PICKUP POINT)\n",
    "p = gw.pickup(data,id)# PICKUP POINT\n",
    "gw.mark(p, line=True, linestyle='--')\n",
    "\n",
    "# MARK ESTIMATORS\n",
    "gw.mark(min_ic,pos=ic[min_ic],label='min ic',c='r')\n",
    "#gw.mark(min_en,pos=en[min_en],label='min en',c='r')\n",
    "#gw.mark(min_ig,pos=en[min_ig],label='min ig',c='r')\n",
    "\n",
    "#gw.mark(max_ic,pos=ic[max_ic],label='max ic',c='r')\n",
    "gw.mark(max_en,pos=en[max_en],label='max en',c='r')\n",
    "#gw.mark(max_ig,pos=en[max_ig],label='max ig',c='r')\n",
    "\n",
    "#gw.mark(max_ic_diff,pos=ic_diff[max_ic_diff],label='max ic diff',c='r')\n",
    "gw.mark(max_en_diff,pos=en_diff[max_en_diff],label='max en diff',c='r')\n",
    "#gw.mark(max_ig_diff,pos=en_diff[max_ig_diff],label='max ig diff',c='r')\n",
    "\n",
    "gw.mark(min_ic_diff,pos=ic_diff[min_ic_diff],label='min ic diff',c='r')\n",
    "#gw.mark(min_en_diff,pos=en_diff[min_en_diff],label='min en diff',c='r')\n",
    "#gw.mark(min_ig_diff,pos=en_diff[min_ig_diff],label='min ig diff',c='r')\n",
    "\n",
    "gw.mark(b_max_ic_diff,pos=ic_diff[b_max_ic_diff],label='before max ic diff',c='r')\n",
    "#gw.mark(b_max_en_diff,pos=en_diff[b_max_en_diff],label='before max en diff',c='r')\n",
    "#gw.mark(b_max_ig_diff,pos=en_diff[b_max_ig_diff],label='before max ig diff',c='r')\n",
    "\n",
    "gw.mark(max_en_ic,line=True,label='max en / ic',c='r',pos=4)\n",
    "#gw.mark(max_ig_ic,line=True,label='max ig / ic',c='r')\n",
    "\n",
    "# display ACTION on the x-axis\n",
    "gw.set_xaxis(acns)"
   ]
  }
 ],
 "metadata": {
  "kernelspec": {
   "display_name": "Python 3",
   "language": "python",
   "name": "python3"
  },
  "language_info": {
   "codemirror_mode": {
    "name": "ipython",
    "version": 3
   },
   "file_extension": ".py",
   "mimetype": "text/x-python",
   "name": "python",
   "nbconvert_exporter": "python",
   "pygments_lexer": "ipython3",
   "version": "3.7.6"
  }
 },
 "nbformat": 4,
 "nbformat_minor": 4
}
