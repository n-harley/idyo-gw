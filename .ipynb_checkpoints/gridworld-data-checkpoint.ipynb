{
 "cells": [
  {
   "cell_type": "code",
   "execution_count": 1,
   "metadata": {},
   "outputs": [],
   "source": [
    "import pickle\n",
    "import blosc\n",
    "import numpy as np\n",
    "import matplotlib.pyplot as plt\n",
    "\n",
    "# Calculate the entropy from a list of probabilities.\n",
    "def entropy(probabilities):\n",
    "    return -np.sum(np.nan_to_num(np.multiply(probabilities,np.log(probabilities))))\n",
    "\n",
    "# Removes all but the central room from the numeric state\n",
    "def zoom(state):\n",
    "    return np.copy(state)[7:15,7:15]\n",
    "\n",
    "# Returns the coordinates of the agent from a numeric state\n",
    "def get_agent_coordinates(state):\n",
    "    return [(i,j) for j,row in enumerate(state) for i,elem in enumerate(row) if elem[0] == 10][0]\n",
    "\n",
    "# Returns the coordinates of the key from a numeric state\n",
    "def get_key_coordinates(state):\n",
    "    return [(i,j) for j,row in enumerate(state) for i,elem in enumerate(row) if elem[0] == 5]\n",
    "\n",
    "# Transforms a numeric state into a first-person view where the agent is at the center.\n",
    "def first_personize(state,scope=6):\n",
    "    state = zoom(state)\n",
    "    agent_coords = get_agent_coordinates(state)\n",
    "    x = agent_coords[0]\n",
    "    y = agent_coords[1]\n",
    "    \n",
    "    #create blank first person state\n",
    "    fps = np.array([[[0,0,0] for i in np.arange(13)] for j in np.arange(13)])\n",
    "\n",
    "    for j,row in enumerate(state):\n",
    "        for i,elem in enumerate(row):\n",
    "            dx = i-x\n",
    "            dy = j-y\n",
    "            fps[6+dx][6+dy] = elem\n",
    "    \n",
    "    \n",
    "    return fps[6-scope:6+1,6-scope:6+scope+1]\n",
    "\n",
    "# A class of bigram models \n",
    "class Model:   \n",
    "    def __init__(self,equiv,states=np.array([]),transitions=np.array([[]])):\n",
    "        self.states = states\n",
    "        self.transitions = transitions\n",
    "        self.equiv = equiv\n",
    "        \n",
    "    def contains_state(self,state):\n",
    "        return np.any([self.equiv(state,s) for s in self.states])\n",
    "    \n",
    "    def get_state_index(self,state):\n",
    "        if self.contains_state(state):\n",
    "            return np.where(np.array([self.equiv(state,s) for s in self.states]))[0]\n",
    "        else:\n",
    "            return None\n",
    " \n",
    "    def add_state(self,state):\n",
    "        size = len(self.states)\n",
    "        if not(self.contains_state(state)):\n",
    "            self.states = np.concatenate((self.states,[state]))\n",
    "            self.transitions = np.resize(self.transitions,(size+1,size+1))\n",
    "            return size\n",
    "        return self.get_state_index(state)\n",
    "    \n",
    "    def add_transition(self,s1,s2):\n",
    "        s1_index = self.add_state(s1)\n",
    "        s2_index = self.add_state(s2)\n",
    "        self.transitions[s1_index,s2_index]+=1\n",
    "        return (s1_index,s2_index)\n",
    "    \n",
    "    def add_trajectory(self,trajectory):\n",
    "        l = len(trajectory)\n",
    "        current_state = trajectory[:l-2]\n",
    "        next_state = trajectory[1:l-1]\n",
    "        return np.array([self.add_transition(A,B) for A,B in zip(current_state,next_state)])\n",
    "    \n",
    "    def transition_probability(self,state1_idx,state2_idx):\n",
    "        total_transition_instances = self.transitions[state1_idx,state2_idx]\n",
    "        total_possible_transitions = np.sum(self.transitions[state1_idx])\n",
    "        probability = total_transition_instances / total_possible_transitions\n",
    "        return probability\n",
    "    \n",
    "    def next_state_probabilities(self,state_idx):\n",
    "        probabilities = np.array([self.transition_probability(state_idx,i) for i,s in enumerate(self.states)])\n",
    "        return probabilities\n",
    "    \n",
    "    def state_entropy(self,state):\n",
    "        state_idx = self.get_state_index(state)\n",
    "        probabilities = self.next_state_probabilities(state_idx)\n",
    "        return entropy(probabilities)\n",
    "    \n",
    "    def trajectory_entropy(self,trajectory):\n",
    "        return np.array([self.state_entropy(state) for state in trajectory])\n",
    "        \n",
    "# Returns a bigram model from a list of trajectories and an equivalence relation on states    \n",
    "def build_model(trajectories,equiv):\n",
    "    model = Model(equiv,states=np.empty((0,2)))\n",
    "    np.array([model.add_trajectory(T) for T in trajectories])\n",
    "    return model"
   ]
  },
  {
   "cell_type": "markdown",
   "metadata": {},
   "source": [
    "# THE RAW DATA"
   ]
  },
  {
   "cell_type": "code",
   "execution_count": 2,
   "metadata": {},
   "outputs": [],
   "source": [
    "with open('demos/demos2.pkl', 'rb') as f:\n",
    "    data = pickle.load(f)\n",
    "    \n",
    "actions = np.array([[action.name for action in mission[4]] for mission in data])\n",
    "\n",
    "#remove the first action of every mission\n",
    "for actionT in actions:\n",
    "    actionT[0] = 'start'\n",
    "\n",
    "states = np.array([blosc.unpack_array(mission[2]) for mission in data])"
   ]
  },
  {
   "cell_type": "markdown",
   "metadata": {},
   "source": [
    "# THE REPRESENTATION"
   ]
  },
  {
   "cell_type": "code",
   "execution_count": 3,
   "metadata": {},
   "outputs": [],
   "source": [
    "\n",
    "\n",
    "# a representation of agent orientation based on the difference in state cause by a 'forward action'\n",
    "def get_orientation(xdiff,ydiff):\n",
    "    if xdiff == 1:\n",
    "        return 'S'\n",
    "    if xdiff == -1:\n",
    "        return 'N'\n",
    "    if ydiff == 1:\n",
    "        return 'E'\n",
    "    if ydiff == -1:\n",
    "        return 'W'\n",
    "    \n",
    "    return None\n",
    "\n",
    "# modifies an orientation by a direction either 'left' or 'right'\n",
    "def adjust_direction(orientation,direction):\n",
    "    if orientation == 'N':\n",
    "        return 'W' if direction == 'left' else 'E'\n",
    "    if orientation == 'E':\n",
    "        return 'N' if direction == 'left' else 'S'\n",
    "    if orientation == 'S':\n",
    "        return 'E' if direction == 'left' else 'W'\n",
    "    if orientation == 'W':\n",
    "        return 'S' if direction == 'left' else 'N'\n",
    "\n",
    "# gets the initial orientation of the agent\n",
    "def get_initial_orientation(actionT,stateT):\n",
    "    forward_actions = [i for i,a in enumerate(actionT) if a == 'forward']\n",
    "    if len(forward_actions) == 0:\n",
    "        return 'N'\n",
    "    first_forward_action = forward_actions[0]\n",
    "    \n",
    "    before = get_agent_coordinates(stateT[first_forward_action-1])\n",
    "    after = get_agent_coordinates(stateT[first_forward_action])\n",
    "    orientation = get_orientation(after[0]-before[0],after[1]-before[1])\n",
    "    \n",
    "    turns = actionT[1:first_forward_action]\n",
    "    \n",
    "    for turn in np.flip(turns):\n",
    "        if turn == 'left': \n",
    "            orientation = adjust_direction(orientation,'right')\n",
    "        if turn == 'right':\n",
    "            orientation = adjust_direction(orientation,'left')\n",
    "    \n",
    "    return orientation \n",
    "\n",
    "# returns a state rotated in the direction of the agents orientation\n",
    "def rotate_state(state,orientation):\n",
    "    if orientation == 'N':\n",
    "        return state\n",
    "    if orientation == 'E':\n",
    "        return np.rot90(state,3)\n",
    "    if orientation == 'S':\n",
    "        return np.rot90(state,2)\n",
    "    if orientation == 'W':\n",
    "        return np.rot90(state)\n",
    "    \n",
    "    return state\n",
    "\n",
    "# Returns the orientation of the agent for each step in the mission\n",
    "def get_orientations(actionT,initial_orientation):\n",
    "    orientations = np.repeat(initial_orientation,len(actionT))\n",
    "    for i,a in enumerate(actionT):\n",
    "        if a == 'left':\n",
    "            orientations[i] = adjust_direction(orientations[i-1],'left')\n",
    "        elif a == 'right':\n",
    "            orientations[i] = adjust_direction(orientations[i-1],'right')\n",
    "        else:\n",
    "            orientations[i] = orientations[i-1]\n",
    "    \n",
    "    return orientations\n",
    "\n",
    "# starting orientation in each mission\n",
    "initial_orientations = np.array([get_initial_orientation(actionT,stateT) for actionT,stateT in zip(actions,states)])\n",
    "# the orientations for each step in each mission\n",
    "orientations = np.array([get_orientations(actionT,io) for actionT,io in zip(actions,initial_orientations)])\n",
    "# rotated states to match the agents orientation\n",
    "states = np.array([[rotate_state(s,o) for s,o in zip(sT,oT)] for sT,oT in zip(states,orientations)])\n",
    "# create a first person view of the state\n",
    "scope = 1\n",
    "states = np.array([[first_personize(s,scope) for s in stateT] for stateT in states])"
   ]
  },
  {
   "cell_type": "code",
   "execution_count": 4,
   "metadata": {},
   "outputs": [],
   "source": [
    "action_state_pairs = np.array([np.array(list(zip(a,s))) for a,s in zip(actions,states)])\n",
    "    \n",
    "# test whether two states are equivalent\n",
    "def action_state_eq(state1,state2):\n",
    "    same_action = state1[0] == state2[0]\n",
    "    same_state = np.array_equal(state1[1],state2[1])\n",
    "    return same_action & same_state"
   ]
  },
  {
   "cell_type": "markdown",
   "metadata": {},
   "source": [
    "# THE MODEL"
   ]
  },
  {
   "cell_type": "code",
   "execution_count": 5,
   "metadata": {},
   "outputs": [],
   "source": [
    "#model = build_model(action_state_pairs,action_state_eq)"
   ]
  },
  {
   "cell_type": "code",
   "execution_count": 6,
   "metadata": {},
   "outputs": [],
   "source": [
    "#with open('model2c.pickle', 'wb') as f:\n",
    "#    pickle.dump(model, f, pickle.HIGHEST_PROTOCOL)\n",
    "with open('model1b.pickle', 'rb') as f:\n",
    "    model = pickle.load(f)"
   ]
  },
  {
   "cell_type": "markdown",
   "metadata": {},
   "source": [
    "# ENTROPY OF A MISSION"
   ]
  },
  {
   "cell_type": "code",
   "execution_count": 7,
   "metadata": {},
   "outputs": [
    {
     "name": "stderr",
     "output_type": "stream",
     "text": [
      "/usr/local/anaconda3/lib/python3.7/site-packages/ipykernel_launcher.py:8: RuntimeWarning: divide by zero encountered in log\n",
      "  \n",
      "/usr/local/anaconda3/lib/python3.7/site-packages/ipykernel_launcher.py:8: RuntimeWarning: invalid value encountered in multiply\n",
      "  \n"
     ]
    }
   ],
   "source": [
    "# pick a random mission from the data\n",
    "mission_id = np.random.randint(0,len(data))\n",
    "\n",
    "actionT = actions[mission_id]\n",
    "\n",
    "# index of the key pickup\n",
    "pickup_idx = [i for i,a in enumerate(actionT) if a == 'pickup'][0]\n",
    "\n",
    "# calculate the entropy at each state according to the model\n",
    "entropies = model.trajectory_entropy(action_state_pairs[mission_id])"
   ]
  },
  {
   "cell_type": "code",
   "execution_count": 8,
   "metadata": {},
   "outputs": [
    {
     "data": {
      "image/png": "[encoded data removed]",
      "text/plain": [
       "<Figure size 1440x720 with 10 Axes>"
      ]
     },
     "metadata": {
      "needs_background": "light"
     },
     "output_type": "display_data"
    }
   ],
   "source": [
    "def display_state(state):\n",
    "    #plt.imshow(state/10)\n",
    "    plt.imshow(state/10)\n",
    "\n",
    "def display_mission(actionT,stateT,orientationT):\n",
    "    rows = int(np.ceil(len(stateT)/5))\n",
    "    plt.figure(figsize=(20,5*rows))\n",
    "    for i in range(len(stateT)):\n",
    "        plt.subplot(rows,5,i+1)\n",
    "        plt.title(f\"action: {actionT[i]}, \"+f\"orientation: {orientationT[i]}\")\n",
    "        display_state(stateT[i])\n",
    "          \n",
    "display_mission(actions[mission_id],states[mission_id],orientations[mission_id])"
   ]
  },
  {
   "cell_type": "code",
   "execution_count": 9,
   "metadata": {},
   "outputs": [
    {
     "data": {
      "text/plain": [
       "<matplotlib.collections.PathCollection at 0x7ffa577795d0>"
      ]
     },
     "execution_count": 9,
     "metadata": {},
     "output_type": "execute_result"
    },
    {
     "data": {
      "image/png": "[encoded data removed]",
      "text/plain": [
       "<Figure size 1080x360 with 1 Axes>"
      ]
     },
     "metadata": {
      "needs_background": "light"
     },
     "output_type": "display_data"
    }
   ],
   "source": [
    "plt.figure(figsize=(15,5))\n",
    "plt.plot(entropies[:len(entropies)-1])\n",
    "plt.scatter([pickup_idx],entropies[pickup_idx],c='r',marker='X',s=100)"
   ]
  },
  {
   "cell_type": "code",
   "execution_count": null,
   "metadata": {},
   "outputs": [],
   "source": []
  }
 ],
 "metadata": {
  "kernelspec": {
   "display_name": "Python 3",
   "language": "python",
   "name": "python3"
  },
  "language_info": {
   "codemirror_mode": {
    "name": "ipython",
    "version": 3
   },
   "file_extension": ".py",
   "mimetype": "text/x-python",
   "name": "python",
   "nbconvert_exporter": "python",
   "pygments_lexer": "ipython3",
   "version": "3.7.6"
  }
 },
 "nbformat": 4,
 "nbformat_minor": 4
}
