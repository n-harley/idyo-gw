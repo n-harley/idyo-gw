{
 "cells": [
  {
   "cell_type": "code",
   "execution_count": 1,
   "metadata": {},
   "outputs": [],
   "source": [
    "import numpy as np\n",
    "import pandas\n",
    "import matplotlib.pyplot as plt\n",
    "import os\n",
    "import sys\n",
    "sys.path.insert(0, os.path.abspath('./'))\n",
    "import gridworld as gw"
   ]
  },
  {
   "cell_type": "code",
   "execution_count": 2,
   "metadata": {},
   "outputs": [],
   "source": [
    "model_labels = ['idyom-select-maxlinks2',\"idyom-select-maxlinks2-plus\",\"idyom-select-maxlinks3-minus\",\"idyom-select-maxlinks3-plus\"]\n",
    "models = [gw.load_data(l+\".csv\") for l in model_labels]\n",
    "\n",
    "estimator_names = [\"min_ic\",\"min_h\",\"max_h_diff\",\"max_ic_diff\",\"max_ig_diff\",\"max_h_ic\"]\n",
    "estimators = [gw.min_ic,gw.min_h,gw.max_h_diff,gw.max_ic_diff,gw.max_ig_diff,gw.max_h_ic]\n",
    "\n",
    "data = {}\n",
    "\n",
    "for m,M in enumerate(model_labels):\n",
    "    data[M] = [gw.eval_model(models[m],e) for e in estimators]"
   ]
  },
  {
   "cell_type": "code",
   "execution_count": 3,
   "metadata": {},
   "outputs": [
    {
     "data": {
      "text/html": [
       "<div>\n",
       "<style scoped>\n",
       "    .dataframe tbody tr th:only-of-type {\n",
       "        vertical-align: middle;\n",
       "    }\n",
       "\n",
       "    .dataframe tbody tr th {\n",
       "        vertical-align: top;\n",
       "    }\n",
       "\n",
       "    .dataframe thead th {\n",
       "        text-align: right;\n",
       "    }\n",
       "</style>\n",
       "<table border=\"1\" class=\"dataframe\">\n",
       "  <thead>\n",
       "    <tr style=\"text-align: right;\">\n",
       "      <th></th>\n",
       "      <th>idyom-select-maxlinks2</th>\n",
       "      <th>idyom-select-maxlinks2-plus</th>\n",
       "      <th>idyom-select-maxlinks3-minus</th>\n",
       "      <th>idyom-select-maxlinks3-plus</th>\n",
       "    </tr>\n",
       "  </thead>\n",
       "  <tbody>\n",
       "    <tr>\n",
       "      <th>min_ic</th>\n",
       "      <td>356</td>\n",
       "      <td>372</td>\n",
       "      <td>202</td>\n",
       "      <td>237</td>\n",
       "    </tr>\n",
       "    <tr>\n",
       "      <th>min_h</th>\n",
       "      <td>356</td>\n",
       "      <td>361</td>\n",
       "      <td>200</td>\n",
       "      <td>237</td>\n",
       "    </tr>\n",
       "    <tr>\n",
       "      <th>max_h_diff</th>\n",
       "      <td>20</td>\n",
       "      <td>19</td>\n",
       "      <td>9</td>\n",
       "      <td>6</td>\n",
       "    </tr>\n",
       "    <tr>\n",
       "      <th>max_ic_diff</th>\n",
       "      <td>15</td>\n",
       "      <td>18</td>\n",
       "      <td>4</td>\n",
       "      <td>2</td>\n",
       "    </tr>\n",
       "    <tr>\n",
       "      <th>max_ig_diff</th>\n",
       "      <td>26</td>\n",
       "      <td>26</td>\n",
       "      <td>26</td>\n",
       "      <td>26</td>\n",
       "    </tr>\n",
       "    <tr>\n",
       "      <th>max_h_ic</th>\n",
       "      <td>435</td>\n",
       "      <td>452</td>\n",
       "      <td>214</td>\n",
       "      <td>227</td>\n",
       "    </tr>\n",
       "  </tbody>\n",
       "</table>\n",
       "</div>"
      ],
      "text/plain": [
       "             idyom-select-maxlinks2  idyom-select-maxlinks2-plus  \\\n",
       "min_ic                          356                          372   \n",
       "min_h                           356                          361   \n",
       "max_h_diff                       20                           19   \n",
       "max_ic_diff                      15                           18   \n",
       "max_ig_diff                      26                           26   \n",
       "max_h_ic                        435                          452   \n",
       "\n",
       "             idyom-select-maxlinks3-minus  idyom-select-maxlinks3-plus  \n",
       "min_ic                                202                          237  \n",
       "min_h                                 200                          237  \n",
       "max_h_diff                              9                            6  \n",
       "max_ic_diff                             4                            2  \n",
       "max_ig_diff                            26                           26  \n",
       "max_h_ic                              214                          227  "
      ]
     },
     "execution_count": 3,
     "metadata": {},
     "output_type": "execute_result"
    }
   ],
   "source": [
    "pandas.DataFrame(data=data,index=estimator_names)"
   ]
  }
 ],
 "metadata": {
  "kernelspec": {
   "display_name": "Python 3",
   "language": "python",
   "name": "python3"
  },
  "language_info": {
   "codemirror_mode": {
    "name": "ipython",
    "version": 3
   },
   "file_extension": ".py",
   "mimetype": "text/x-python",
   "name": "python",
   "nbconvert_exporter": "python",
   "pygments_lexer": "ipython3",
   "version": "3.7.6"
  }
 },
 "nbformat": 4,
 "nbformat_minor": 4
}
